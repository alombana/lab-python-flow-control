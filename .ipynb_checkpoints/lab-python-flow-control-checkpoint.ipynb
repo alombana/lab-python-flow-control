{
 "cells": [
  {
   "cell_type": "markdown",
   "id": "d3bfc191-8885-42ee-b0a0-bbab867c6f9f",
   "metadata": {
    "tags": []
   },
   "source": [
    "# Lab | Flow Control"
   ]
  },
  {
   "cell_type": "markdown",
   "id": "3851fcd1-cf98-4653-9c89-e003b7ec9400",
   "metadata": {},
   "source": [
    "## Exercise: Managing Customer Orders Optimized\n",
    "\n",
    "In the last lab, you were starting an online store that sells various products. To ensure smooth operations, you developed a program that manages customer orders and inventory.\n",
    "\n",
    "You did so without using flow control. Let's go a step further and improve this code.\n",
    "\n",
    "Follow the steps below to complete the exercise:\n",
    "\n",
    "1. Look at your code from the lab data structures, and improve repeated code with loops.\n",
    "\n",
    "2. Instead of asking the user to input the name of three products that a customer wants to order, do the following:\n",
    "    \n",
    "    a. Prompt the user to enter the name of a product that a customer wants to order.\n",
    "    \n",
    "    b. Add the product name to the \"customer_orders\" set.\n",
    "    \n",
    "    c. Ask the user if they want to add another product (yes/no).\n",
    "    \n",
    "    d. Continue the loop until the user does not want to add another product.\n",
    "\n",
    "3. Instead of updating the inventory by subtracting 1 from the quantity of each product, only do it for  the products that were ordered (those in \"customer_orders\")."
   ]
  },
  {
   "cell_type": "code",
   "execution_count": 1,
   "id": "acaacdd5",
   "metadata": {},
   "outputs": [
    {
     "name": "stdout",
     "output_type": "stream",
     "text": [
      "Enter the quantity of the product t-shirt 50\n",
      "Enter the quantity of the product mug 50\n",
      "Enter the quantity of the product hat 50\n",
      "Enter the quantity of the product book 50\n",
      "Enter the quantity of the product keychain 50\n",
      "{'t-shirt': 50, 'mug': 50, 'hat': 50, 'book': 50, 'keychain': 50}\n",
      "Enter the numero of the product you want to order: 1.t-shirt 2.mug 3.hat 4.book 5.keychainsfs\n",
      "\n",
      " please enter a number of product\n",
      "Enter the numero of the product you want to order: 1.t-shirt 2.mug 3.hat 4.book 5.keychain1\n",
      "Quantity:50\n",
      "Do you want to order another item? Enter yes or no no\n",
      "\n",
      "\n",
      "{'t-shirt': 50, 'mug': 0, 'hat': 0, 'book': 0, 'keychain': 0}\n",
      "\n",
      "\n",
      "Total Products Ordered:  50\n",
      "\n",
      "\n",
      "\n",
      "\n",
      "Inventory updated:  {'t-shirt': 0, 'mug': 50, 'hat': 50, 'book': 50, 'keychain': 50}\n",
      "\n",
      "\n"
     ]
    }
   ],
   "source": [
    "\n",
    "products=['t-shirt', 'mug', 'hat', 'book', 'keychain']\n",
    "inventory={}\n",
    "\n",
    "for item in products:\n",
    "    inventory[item]=int(input(f'Enter the quantity of the product {item} '))\n",
    "    \n",
    "print (inventory)\n",
    "\n",
    "\n",
    "customer_orders={'t-shirt': 0, 'mug': 0, 'hat': 0, 'book': 0, 'keychain': 0}\n",
    "order='yes'\n",
    "\n",
    "while order=='yes':\n",
    "    user_input=input('Enter the numero of the product you want to order: 1.t-shirt 2.mug 3.hat 4.book 5.keychain')\n",
    "    if user_input=='1':\n",
    "        customer_orders['t-shirt']+=int(input('Quantity:'))            \n",
    "        order=input('Do you want to order another item? Enter yes or no ')\n",
    "    elif user_input=='2':\n",
    "        customer_orders['mug']+=int(input('Quantity:'))\n",
    "        order=input('Do you want to order another item? Enter yes or no ')\n",
    "    elif user_input=='3':\n",
    "        customer_orders['hat']+=int(input('Quantity:'))\n",
    "        order=input('Do you want to order another item? Enter yes or no ')\n",
    "    elif user_input=='4':\n",
    "        customer_orders['book']+=int(input('Quantity:'))\n",
    "        order=input('Do you want to order another item? Enter yes or no ')\n",
    "    elif user_input=='5':\n",
    "        customer_orders['keychain']+=int(input('Quantity:'))\n",
    "        order=input('Do you want to order another item? Enter yes or no ')\n",
    "    else:\n",
    "        print('\\n','please enter a number of product')\n",
    "        \n",
    "\n",
    "print('\\n')\n",
    "print(customer_orders)\n",
    "print('\\n')\n",
    "\n",
    "total_products_ordered=[]\n",
    "for value in customer_orders.values():\n",
    "    total_products_ordered.append(value)\n",
    "\n",
    "print('Total Products Ordered: ',sum(total_products_ordered))    \n",
    "print('\\n')\n",
    "for product in inventory:\n",
    "        inventory[product]=(inventory.get(product)-customer_orders[product])\n",
    "\n",
    "print('\\n')\n",
    "print('Inventory updated: ',inventory)\n",
    "print('\\n')\n"
   ]
  }
 ],
 "metadata": {
  "kernelspec": {
   "display_name": "Python 3 (ipykernel)",
   "language": "python",
   "name": "python3"
  },
  "language_info": {
   "codemirror_mode": {
    "name": "ipython",
    "version": 3
   },
   "file_extension": ".py",
   "mimetype": "text/x-python",
   "name": "python",
   "nbconvert_exporter": "python",
   "pygments_lexer": "ipython3",
   "version": "3.11.5"
  }
 },
 "nbformat": 4,
 "nbformat_minor": 5
}
